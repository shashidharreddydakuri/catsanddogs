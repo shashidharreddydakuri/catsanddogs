{
 "cells": [
  {
   "cell_type": "code",
   "execution_count": 6,
   "metadata": {},
   "outputs": [
    {
     "data": {
      "text/plain": [
       "'1.4.0'"
      ]
     },
     "execution_count": 6,
     "metadata": {},
     "output_type": "execute_result"
    }
   ],
   "source": [
    "import tensorflow as tf\n",
    "tf.__version__"
   ]
  },
  {
   "cell_type": "code",
   "execution_count": 10,
   "metadata": {},
   "outputs": [
    {
     "name": "stdout",
     "output_type": "stream",
     "text": [
      "Train on 17462 samples, validate on 7484 samples\n",
      "Epoch 1/10\n",
      "17462/17462 [==============================] - 30s - loss: 0.6591 - acc: 0.6101 - val_loss: 0.6216 - val_acc: 0.6563\n",
      "Epoch 2/10\n",
      "17462/17462 [==============================] - 32s - loss: 0.5834 - acc: 0.6977 - val_loss: 0.5860 - val_acc: 0.6999\n",
      "Epoch 3/10\n",
      "17462/17462 [==============================] - 31s - loss: 0.5389 - acc: 0.7337 - val_loss: 0.5255 - val_acc: 0.7463\n",
      "Epoch 4/10\n",
      "17462/17462 [==============================] - 28s - loss: 0.5037 - acc: 0.7551 - val_loss: 0.5129 - val_acc: 0.7584\n",
      "Epoch 5/10\n",
      "17462/17462 [==============================] - 28s - loss: 0.4797 - acc: 0.7721 - val_loss: 0.5177 - val_acc: 0.7476\n",
      "Epoch 6/10\n",
      "17462/17462 [==============================] - 29s - loss: 0.4636 - acc: 0.7808 - val_loss: 0.4967 - val_acc: 0.7607\n",
      "Epoch 7/10\n",
      "17462/17462 [==============================] - 30s - loss: 0.4485 - acc: 0.7918 - val_loss: 0.4835 - val_acc: 0.7690\n",
      "Epoch 8/10\n",
      "17462/17462 [==============================] - 30s - loss: 0.4347 - acc: 0.7976 - val_loss: 0.4801 - val_acc: 0.7779\n",
      "Epoch 9/10\n",
      "17462/17462 [==============================] - 30s - loss: 0.4218 - acc: 0.8045 - val_loss: 0.5125 - val_acc: 0.7527\n",
      "Epoch 10/10\n",
      "17462/17462 [==============================] - 30s - loss: 0.4082 - acc: 0.8107 - val_loss: 0.4727 - val_acc: 0.7761\n"
     ]
    },
    {
     "data": {
      "text/plain": [
       "<tensorflow.python.keras._impl.keras.callbacks.History at 0x275131e7128>"
      ]
     },
     "execution_count": 10,
     "metadata": {},
     "output_type": "execute_result"
    }
   ],
   "source": [
    "import tensorflow as tf\n",
    "from tensorflow.python.keras.models import Sequential\n",
    "from tensorflow.python.keras.layers import Dense, Dropout, Activation, Flatten, Conv2D, MaxPooling2D\n",
    "import pickle\n",
    "\n",
    "pickle_in = open(\"X.pickle\",\"rb\")\n",
    "X = pickle.load(pickle_in)\n",
    "\n",
    "pickle_in = open(\"y.pickle\",\"rb\")\n",
    "y = pickle.load(pickle_in)\n",
    "\n",
    "X = X/255.0\n",
    "\n",
    "model = Sequential()\n",
    "\n",
    "model.add(Conv2D(64, (3, 3), input_shape=X.shape[1:]))\n",
    "model.add(Activation('relu'))\n",
    "model.add(MaxPooling2D(pool_size=(2, 2)))\n",
    "\n",
    "model.add(Conv2D(64, (3, 3)))\n",
    "model.add(Activation('relu'))\n",
    "model.add(MaxPooling2D(pool_size=(2, 2)))\n",
    "\n",
    "model.add(Flatten())  # this converts our 3D feature maps to 1D feature vectors\n",
    "\n",
    "model.add(Dense(64))\n",
    "\n",
    "model.add(Dense(1))\n",
    "model.add(Activation('sigmoid'))\n",
    "\n",
    "model.compile(loss='binary_crossentropy',\n",
    "              optimizer='adam',\n",
    "              metrics=['accuracy'])\n",
    "\n",
    "model.fit(X, y, batch_size=8, epochs=10, validation_split=0.3)"
   ]
  }
 ],
 "metadata": {
  "kernelspec": {
   "display_name": "Python 3",
   "language": "python",
   "name": "python3"
  },
  "language_info": {
   "codemirror_mode": {
    "name": "ipython",
    "version": 3
   },
   "file_extension": ".py",
   "mimetype": "text/x-python",
   "name": "python",
   "nbconvert_exporter": "python",
   "pygments_lexer": "ipython3",
   "version": "3.6.3"
  }
 },
 "nbformat": 4,
 "nbformat_minor": 2
}
